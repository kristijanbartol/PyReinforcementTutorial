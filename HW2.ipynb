{
 "cells": [
  {
   "cell_type": "markdown",
   "metadata": {},
   "source": [
    "# Homework 2"
   ]
  },
  {
   "cell_type": "markdown",
   "metadata": {},
   "source": [
    "- Goal: Learn about <b>functions</b> and <b>modules</b>."
   ]
  },
  {
   "cell_type": "markdown",
   "metadata": {},
   "source": [
    "## 1. Functions"
   ]
  },
  {
   "cell_type": "markdown",
   "metadata": {},
   "source": [
    "The motivation for using functions can be described with the following example:"
   ]
  },
  {
   "cell_type": "code",
   "execution_count": 4,
   "metadata": {},
   "outputs": [
    {
     "name": "stdout",
     "output_type": "stream",
     "text": [
      "5\n"
     ]
    }
   ],
   "source": [
    "# Count number of occurences of character 'a' in the text\n",
    "\n",
    "text = 'always ask for an advice when you\\'re stuck'\n",
    "counter = 0\n",
    "\n",
    "for c in text:\n",
    "    if c == 'a':\n",
    "        counter += 1\n",
    "\n",
    "# Notice this print function call is not part of the 'for' loop block\n",
    "print(counter)"
   ]
  },
  {
   "cell_type": "code",
   "execution_count": 6,
   "metadata": {},
   "outputs": [
    {
     "name": "stdout",
     "output_type": "stream",
     "text": [
      "7\n"
     ]
    }
   ],
   "source": [
    "# Now count the number of occurences of character 'c'\n",
    "\n",
    "text = 'counting characters can cause complications'\n",
    "counter = 0\n",
    "\n",
    "# ...Is there a better way than writing almost the same 'for' loop again?\n",
    "\n",
    "# Define count_letter_occurences function\n",
    "def count_letter_occurences(text, letter):\n",
    "    counter = 0\n",
    "    \n",
    "    for c in text:\n",
    "        if c == letter:\n",
    "            counter += 1\n",
    "            \n",
    "    return counter\n",
    "\n",
    "# You can now call the function and print the result\n",
    "print(count_letter_occurences(text, 'c'))"
   ]
  },
  {
   "cell_type": "markdown",
   "metadata": {},
   "source": [
    "### Assignment 2.1."
   ]
  },
  {
   "cell_type": "markdown",
   "metadata": {},
   "source": [
    "Define a function that counts the number of occurences of <b>each character that occurred in the text</b>. Please use already defined count_letter_occurences function."
   ]
  },
  {
   "cell_type": "code",
   "execution_count": 13,
   "metadata": {},
   "outputs": [
    {
     "data": {
      "text/plain": [
       "Counter({' ': 4,\n",
       "         'a': 5,\n",
       "         'c': 7,\n",
       "         'e': 2,\n",
       "         'g': 1,\n",
       "         'h': 1,\n",
       "         'i': 3,\n",
       "         'l': 1,\n",
       "         'm': 1,\n",
       "         'n': 4,\n",
       "         'o': 3,\n",
       "         'p': 1,\n",
       "         'r': 2,\n",
       "         's': 3,\n",
       "         't': 3,\n",
       "         'u': 2})"
      ]
     },
     "execution_count": 13,
     "metadata": {},
     "output_type": "execute_result"
    }
   ],
   "source": [
    "# The result should look something like the following \n",
    "from collections import Counter\n",
    "Counter(text)\n",
    "\n",
    "# It is enough to just print the resulting numbers in no special order\n",
    "# TODO: your solution here\n"
   ]
  }
 ],
 "metadata": {
  "kernelspec": {
   "display_name": "Python 3",
   "language": "python",
   "name": "python3"
  },
  "language_info": {
   "codemirror_mode": {
    "name": "ipython",
    "version": 3
   },
   "file_extension": ".py",
   "mimetype": "text/x-python",
   "name": "python",
   "nbconvert_exporter": "python",
   "pygments_lexer": "ipython3",
   "version": "3.6.4"
  }
 },
 "nbformat": 4,
 "nbformat_minor": 2
}
