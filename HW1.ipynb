{
 "cells": [
  {
   "cell_type": "markdown",
   "metadata": {},
   "source": [
    "# Homework 1"
   ]
  },
  {
   "cell_type": "markdown",
   "metadata": {},
   "source": [
    "Goal: learn how to use <b>lists</b>, define <b>functions</b> and write simple <b>algorithms</b>."
   ]
  },
  {
   "cell_type": "markdown",
   "metadata": {},
   "source": [
    "## 1. Lists"
   ]
  },
  {
   "cell_type": "markdown",
   "metadata": {},
   "source": [
    "Examples with lists:"
   ]
  },
  {
   "cell_type": "code",
   "execution_count": 11,
   "metadata": {},
   "outputs": [
    {
     "name": "stdout",
     "output_type": "stream",
     "text": [
      "[1, 2, 5, 6]\n"
     ]
    }
   ],
   "source": [
    "a = [1, 2, 5, 6]\n",
    "print(a)"
   ]
  },
  {
   "cell_type": "code",
   "execution_count": 12,
   "metadata": {},
   "outputs": [
    {
     "name": "stdout",
     "output_type": "stream",
     "text": [
      "[1, 2, 5, 6, 3]\n",
      "[1, 2, 5, 6, 3, [9, 8, 7]]\n"
     ]
    }
   ],
   "source": [
    "a.append(3)\n",
    "print(a)\n",
    "\n",
    "a.append([9, 8, 7])\n",
    "print(a)"
   ]
  },
  {
   "cell_type": "code",
   "execution_count": 31,
   "metadata": {},
   "outputs": [
    {
     "name": "stdout",
     "output_type": "stream",
     "text": [
      "2\n",
      "[1, 2, 5, 6]\n",
      "[1, 2, 5, 6]\n",
      "[5, 6]\n",
      "[3, [9, 8, 7]]\n"
     ]
    }
   ],
   "source": [
    "# Select second element (indices always start from 0)\n",
    "print(a[1])\n",
    "\n",
    "# Slice first 5 list elements\n",
    "print(a[0:4])\n",
    "\n",
    "# Do the same skipping redundant index\n",
    "print(a[:4])\n",
    "\n",
    "print(a[2:4])\n",
    "\n",
    "# Slice elements starting from 5th (inclusive) to the end (there are 6 elements, index 6 is not included in range)\n",
    "# In the resulting list, there are 2 elements (5th and 6th)\n",
    "print(a[4:6])"
   ]
  },
  {
   "cell_type": "code",
   "execution_count": 35,
   "metadata": {},
   "outputs": [
    {
     "name": "stdout",
     "output_type": "stream",
     "text": [
      "Reminder of the original value of list a: [1, 2, 5, 6, 3, [9, 8, 7]]\n",
      "[9, 8, 7]\n",
      "3\n",
      "[3]\n"
     ]
    }
   ],
   "source": [
    "print('Reminder of the original value of list a: {}'.format(a))\n",
    "\n",
    "# Last element of a list (note that the last element of a is an inner list)\n",
    "print(a[-1])\n",
    "\n",
    "# Second last element\n",
    "print(a[-2])\n",
    "\n",
    "# Proper way to select all element up to last one, not needing to know the size of the list\n",
    "print(a[4:-1])"
   ]
  },
  {
   "cell_type": "code",
   "execution_count": 7,
   "metadata": {},
   "outputs": [
    {
     "name": "stdout",
     "output_type": "stream",
     "text": [
      "[1, 2, 3, 4, 9, 8, 7]\n"
     ]
    }
   ],
   "source": [
    "# List could again be named 'a', i.e., value of 'a' could be overwritten, but it's clearer to use new name\n",
    "b = [1, 2, 3, 4]\n",
    "\n",
    "b += [9, 8, 7]   # equals \"b = b + [9, 8, 7]\"\n",
    "print(b)"
   ]
  },
  {
   "cell_type": "markdown",
   "metadata": {},
   "source": [
    "### Assignment 1.1."
   ]
  },
  {
   "cell_type": "markdown",
   "metadata": {},
   "source": [
    "Select last three elements of list <b>b</b> and print the result.\n",
    "\n",
    "<b>Note</b>: you should not change original value of <b>b</b>."
   ]
  },
  {
   "cell_type": "code",
   "execution_count": 24,
   "metadata": {},
   "outputs": [],
   "source": [
    "# The result should be [9, 8, 7]\n"
   ]
  },
  {
   "cell_type": "markdown",
   "metadata": {},
   "source": [
    "### Assignment 1.2."
   ]
  },
  {
   "cell_type": "markdown",
   "metadata": {},
   "source": [
    "Remove last three elements from list <b>b</b> and print the result."
   ]
  },
  {
   "cell_type": "code",
   "execution_count": null,
   "metadata": {},
   "outputs": [],
   "source": [
    "# The result should be [1, 2, 3, 4]\n"
   ]
  },
  {
   "cell_type": "markdown",
   "metadata": {},
   "source": [
    "### Assignment 1.3."
   ]
  },
  {
   "cell_type": "markdown",
   "metadata": {},
   "source": [
    "Remove third element (on index 2) of list <b>b</b> and print the result."
   ]
  },
  {
   "cell_type": "code",
   "execution_count": 8,
   "metadata": {},
   "outputs": [],
   "source": [
    "# The result should be [1, 2, 4]\n"
   ]
  },
  {
   "cell_type": "markdown",
   "metadata": {},
   "source": [
    "### *Assignment 1.4. "
   ]
  },
  {
   "cell_type": "markdown",
   "metadata": {},
   "source": [
    "Select last element of <b>inner list</b> in list <b>a</b> and print the result."
   ]
  },
  {
   "cell_type": "code",
   "execution_count": 15,
   "metadata": {},
   "outputs": [],
   "source": [
    "# a = [1, 2, 5, 6, 3, [9, 8, 7]], select \"7\".\n"
   ]
  },
  {
   "cell_type": "markdown",
   "metadata": {},
   "source": [
    "## 2. For-loop and list comprehensions "
   ]
  },
  {
   "cell_type": "markdown",
   "metadata": {},
   "source": [
    "For loop serves for iterating through <b>sequences</b>, like lists. Examples of for loops: "
   ]
  },
  {
   "cell_type": "code",
   "execution_count": 17,
   "metadata": {},
   "outputs": [
    {
     "name": "stdout",
     "output_type": "stream",
     "text": [
      "0\n",
      "1\n",
      "2\n",
      "3\n",
      "4\n"
     ]
    }
   ],
   "source": [
    "for i in range(5):\n",
    "    print(i)"
   ]
  },
  {
   "cell_type": "code",
   "execution_count": 18,
   "metadata": {},
   "outputs": [
    {
     "name": "stdout",
     "output_type": "stream",
     "text": [
      "1\n",
      "2\n",
      "3\n",
      "4\n",
      "9\n",
      "8\n",
      "7\n"
     ]
    }
   ],
   "source": [
    "for element in b:\n",
    "    print(element)"
   ]
  },
  {
   "cell_type": "code",
   "execution_count": 19,
   "metadata": {},
   "outputs": [
    {
     "name": "stdout",
     "output_type": "stream",
     "text": [
      "[9, 8, 7]\n",
      "3\n",
      "6\n",
      "5\n",
      "2\n",
      "1\n"
     ]
    }
   ],
   "source": [
    "# a[::-1] reverses the list\n",
    "for e in a[::-1]:\n",
    "    print(e)"
   ]
  },
  {
   "cell_type": "code",
   "execution_count": 22,
   "metadata": {},
   "outputs": [
    {
     "name": "stdout",
     "output_type": "stream",
     "text": [
      "Index: 0 | Element: [9, 8, 7]\n",
      "Index: 1 | Element: 3\n",
      "Index: 2 | Element: 6\n",
      "Index: 3 | Element: 5\n",
      "Index: 4 | Element: 2\n",
      "Index: 5 | Element: 1\n"
     ]
    }
   ],
   "source": [
    "# Now you have two variables in for-loop scope that you use for iteration.\n",
    "# First is the index and second is the actual element value.\n",
    "\n",
    "for i, e in enumerate(a[::-1]):\n",
    "    print('Index: {} | Element: {}'.format(i, e))"
   ]
  },
  {
   "cell_type": "code",
   "execution_count": 23,
   "metadata": {},
   "outputs": [
    {
     "name": "stdout",
     "output_type": "stream",
     "text": [
      "1\n",
      "3\n",
      "9\n",
      "7\n"
     ]
    }
   ],
   "source": [
    "# Note: we iterate through list 'b'.\n",
    "\n",
    "for i, e in enumerate(b):\n",
    "    if i % 2 == 0:         # '%' je operator ostatka pri dijeljenju, tzv. 'mod' operator\n",
    "        print(e)"
   ]
  },
  {
   "cell_type": "markdown",
   "metadata": {},
   "source": [
    "<b>List comprehensions</b> are just for-loops written in one line. The idea is to first specify what happens to the variable we use for iteration and then to specify the elements we are iterating through. For example:"
   ]
  },
  {
   "cell_type": "code",
   "execution_count": 28,
   "metadata": {},
   "outputs": [
    {
     "data": {
      "text/plain": [
       "[0, 1, 2, 3, 4]"
      ]
     },
     "execution_count": 28,
     "metadata": {},
     "output_type": "execute_result"
    }
   ],
   "source": [
    "[x for x in range(5)]"
   ]
  },
  {
   "cell_type": "code",
   "execution_count": 29,
   "metadata": {},
   "outputs": [
    {
     "data": {
      "text/plain": [
       "[(0, 1), (1, 2), (2, 3), (3, 4), (4, 9), (5, 8), (6, 7)]"
      ]
     },
     "execution_count": 29,
     "metadata": {},
     "output_type": "execute_result"
    }
   ],
   "source": [
    "[(x, y) for x, y in enumerate(b)]"
   ]
  },
  {
   "cell_type": "code",
   "execution_count": null,
   "metadata": {},
   "outputs": [],
   "source": [
    "i = 0\n",
    "\n",
    "[]"
   ]
  }
 ],
 "metadata": {
  "kernelspec": {
   "display_name": "Python 3",
   "language": "python",
   "name": "python3"
  },
  "language_info": {
   "codemirror_mode": {
    "name": "ipython",
    "version": 3
   },
   "file_extension": ".py",
   "mimetype": "text/x-python",
   "name": "python",
   "nbconvert_exporter": "python",
   "pygments_lexer": "ipython3",
   "version": "3.6.4"
  }
 },
 "nbformat": 4,
 "nbformat_minor": 2
}
